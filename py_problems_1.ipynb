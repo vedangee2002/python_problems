{
 "cells": [
  {
   "cell_type": "markdown",
   "id": "23988ed2",
   "metadata": {},
   "source": [
    "Given an array of integers nums and an integer target, return indices of the two numbers such that they add up to target."
   ]
  },
  {
   "cell_type": "code",
   "execution_count": 1,
   "id": "89072213",
   "metadata": {},
   "outputs": [],
   "source": [
    "def two_sum():\n",
    "    target = int(input(\"Please enter the target : \"))\n",
    "    l = str(input(\"Enter the elemnts of list seperated by space : \"))\n",
    "    l1 = l.split()\n",
    "    if len(l1) == 0:\n",
    "        print(\"Given list is empty\")\n",
    "    else:\n",
    "        for i in range(0,len(l1)):\n",
    "            l1[i] = int(l1[i])\n",
    "    for i in range(0,len(l1)):\n",
    "        for j in range(0,len(l1)):\n",
    "            if i != j:\n",
    "                if l1[i] + l1[j] == target:\n",
    "                    return(i,j)\n",
    "    print(\"There are no such elements in given list that add up to the target\")\n",
    "    "
   ]
  },
  {
   "cell_type": "code",
   "execution_count": 2,
   "id": "66b387fe",
   "metadata": {},
   "outputs": [
    {
     "name": "stdout",
     "output_type": "stream",
     "text": [
      "Please enter the target : 6\n",
      "Enter the elemnts of list seperated by space : 1 2 3 4 5 \n"
     ]
    },
    {
     "data": {
      "text/plain": [
       "(0, 4)"
      ]
     },
     "execution_count": 2,
     "metadata": {},
     "output_type": "execute_result"
    }
   ],
   "source": [
    "two_sum()"
   ]
  },
  {
   "cell_type": "markdown",
   "id": "5cc54336",
   "metadata": {},
   "source": [
    "Given an integer x, return true if x is a palindrome, and false otherwise."
   ]
  },
  {
   "cell_type": "code",
   "execution_count": 3,
   "id": "4461b3fd",
   "metadata": {},
   "outputs": [],
   "source": [
    "def is_palindrome():\n",
    "    num = int(input(\"Please give an integer number : \"))\n",
    "    if int(str(num)[::-1]) == num:\n",
    "        print(\"Given integer is a palindrome\")\n",
    "    else:\n",
    "        print(\"Given integer is not a palindrome\")\n",
    "      "
   ]
  },
  {
   "cell_type": "code",
   "execution_count": 4,
   "id": "8dc0fdc2",
   "metadata": {},
   "outputs": [
    {
     "name": "stdout",
     "output_type": "stream",
     "text": [
      "Please give an integer number : 121\n",
      "Given integer is a palindrome\n"
     ]
    }
   ],
   "source": [
    "is_palindrome()"
   ]
  },
  {
   "cell_type": "code",
   "execution_count": 5,
   "id": "5738eb4e",
   "metadata": {},
   "outputs": [
    {
     "name": "stdout",
     "output_type": "stream",
     "text": [
      "Please give an integer number : 123\n",
      "Given integer is not a palindrome\n"
     ]
    }
   ],
   "source": [
    "is_palindrome()"
   ]
  },
  {
   "cell_type": "markdown",
   "id": "e52c63fc",
   "metadata": {},
   "source": [
    "Given a list of n integers, calculate the median"
   ]
  },
  {
   "cell_type": "code",
   "execution_count": 6,
   "id": "b90e2c42",
   "metadata": {},
   "outputs": [],
   "source": [
    "def med():\n",
    "    num=str(input(\"Please enter the elements of the list : \"))\n",
    "    l=num.split()\n",
    "    for i in range(0,len(l)):\n",
    "        l[i]=int(l[i])\n",
    "    if len(l) == 0:\n",
    "        print(\"Given list is empty\")\n",
    "    else:\n",
    "        if len(l)%2 == 0:\n",
    "            a= int(len(l)/2)\n",
    "            b=int((len(l)/2)+1)\n",
    "            median = (l[a-1]+l[b-1])/2\n",
    "        else:\n",
    "            c=int((len(l)+1)/2)\n",
    "            median=l[c-1]\n",
    "    print(\"The median of given list is \",median)\n",
    "    \n",
    "        "
   ]
  },
  {
   "cell_type": "code",
   "execution_count": 7,
   "id": "e61a0f92",
   "metadata": {},
   "outputs": [
    {
     "name": "stdout",
     "output_type": "stream",
     "text": [
      "Please enter the elements of the list : 1 2 3 4 5\n",
      "The median of given list is  3\n"
     ]
    }
   ],
   "source": [
    "med()"
   ]
  },
  {
   "cell_type": "code",
   "execution_count": 8,
   "id": "43bee9b3",
   "metadata": {},
   "outputs": [
    {
     "name": "stdout",
     "output_type": "stream",
     "text": [
      "Please enter the elements of the list : 1 2 3 4 5 6 \n",
      "The median of given list is  3.5\n"
     ]
    }
   ],
   "source": [
    "med()"
   ]
  },
  {
   "cell_type": "markdown",
   "id": "a2054357",
   "metadata": {},
   "source": [
    "Given a number, find that number raised to the power of its own reverse"
   ]
  },
  {
   "cell_type": "code",
   "execution_count": 9,
   "id": "173e768f",
   "metadata": {},
   "outputs": [],
   "source": [
    "def pow_rev():\n",
    "    num=int(input(\"Please give an integer number : \"))\n",
    "    num1=int(str(num)[::-1])\n",
    "    sol=num**num1\n",
    "    print(\"The number raised to the power of its own reverse is : \",sol)"
   ]
  },
  {
   "cell_type": "code",
   "execution_count": 10,
   "id": "df107542",
   "metadata": {},
   "outputs": [
    {
     "name": "stdout",
     "output_type": "stream",
     "text": [
      "Please give an integer number : 21\n",
      "The number raised to the power of its own reverse is :  7355827511386641\n"
     ]
    }
   ],
   "source": [
    "pow_rev()"
   ]
  }
 ],
 "metadata": {
  "kernelspec": {
   "display_name": "Python 3 (ipykernel)",
   "language": "python",
   "name": "python3"
  },
  "language_info": {
   "codemirror_mode": {
    "name": "ipython",
    "version": 3
   },
   "file_extension": ".py",
   "mimetype": "text/x-python",
   "name": "python",
   "nbconvert_exporter": "python",
   "pygments_lexer": "ipython3",
   "version": "3.11.5"
  }
 },
 "nbformat": 4,
 "nbformat_minor": 5
}
