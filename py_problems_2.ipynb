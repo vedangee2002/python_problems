{
 "cells": [
  {
   "cell_type": "markdown",
   "id": "d02d67d6",
   "metadata": {},
   "source": [
    "Write a python program to print sum of numbers present iniside list"
   ]
  },
  {
   "cell_type": "code",
   "execution_count": 1,
   "id": "e6249c30",
   "metadata": {},
   "outputs": [],
   "source": [
    "def sum_list():\n",
    "    l=str(input(\"please enter the elements of the list seperated by space : \"))\n",
    "    l=l.split()\n",
    "    sum=0\n",
    "    for i in range(0,len(l)):\n",
    "        sum=sum+int(l[i])\n",
    "    print(\"The sum of elements of the list is\",sum)"
   ]
  },
  {
   "cell_type": "code",
   "execution_count": 2,
   "id": "5d882432",
   "metadata": {},
   "outputs": [
    {
     "name": "stdout",
     "output_type": "stream",
     "text": [
      "please enter the elements of the list seperated by space : 1 -1 2 -3 4\n",
      "The sum of elements of the list is 3\n"
     ]
    }
   ],
   "source": [
    "sum_list()"
   ]
  },
  {
   "cell_type": "markdown",
   "id": "3fa2717a",
   "metadata": {},
   "source": [
    "For a given number N check if it is prime or not"
   ]
  },
  {
   "cell_type": "code",
   "execution_count": 3,
   "id": "3146023a",
   "metadata": {},
   "outputs": [],
   "source": [
    "def is_prime():\n",
    "    num = int(input(\"Please enter an integer : \"))\n",
    "    if num<=1:\n",
    "        print(num,\"is not a prime number\")\n",
    "        return\n",
    "    for i in range(2,int(num**0.5)+1):\n",
    "        if num%i==0:\n",
    "            print(num,\"is not a prime number\")\n",
    "            return\n",
    "    print(num,\"is a prime number\")\n",
    " "
   ]
  },
  {
   "cell_type": "code",
   "execution_count": 4,
   "id": "70f0cfe5",
   "metadata": {},
   "outputs": [
    {
     "name": "stdout",
     "output_type": "stream",
     "text": [
      "Please enter an integer : 6\n",
      "6 is not a prime number\n"
     ]
    }
   ],
   "source": [
    "is_prime()"
   ]
  },
  {
   "cell_type": "code",
   "execution_count": 5,
   "id": "5818fc71",
   "metadata": {},
   "outputs": [
    {
     "name": "stdout",
     "output_type": "stream",
     "text": [
      "Please enter an integer : 47\n",
      "47 is a prime number\n"
     ]
    }
   ],
   "source": [
    "is_prime()"
   ]
  },
  {
   "cell_type": "code",
   "execution_count": 6,
   "id": "2f7d88c5",
   "metadata": {},
   "outputs": [
    {
     "name": "stdout",
     "output_type": "stream",
     "text": [
      "Please enter an integer : 1\n",
      "1 is not a prime number\n"
     ]
    }
   ],
   "source": [
    "is_prime()"
   ]
  },
  {
   "cell_type": "markdown",
   "id": "35fc1e40",
   "metadata": {},
   "source": [
    "Given two numbers find their LCM"
   ]
  },
  {
   "cell_type": "code",
   "execution_count": 7,
   "id": "3f048002",
   "metadata": {},
   "outputs": [],
   "source": [
    "def find_lcm():\n",
    "    a=int(input(\"Please enter the first number : \"))\n",
    "    b=int(input(\"Please enter the second number : \"))\n",
    "    great=max(a,b)\n",
    "    while True:\n",
    "        if great%a == 0 and great%b == 0:\n",
    "            lcm = great\n",
    "            break\n",
    "        great = great+1\n",
    "    print(\"The lcm of numbers\",a,\"and\",b,\"is\",lcm)\n",
    "        "
   ]
  },
  {
   "cell_type": "code",
   "execution_count": 8,
   "id": "26471899",
   "metadata": {},
   "outputs": [
    {
     "name": "stdout",
     "output_type": "stream",
     "text": [
      "Please enter the first number : 12\n",
      "Please enter the second number : 18\n",
      "The lcm of numbers 12 and 18 is 36\n"
     ]
    }
   ],
   "source": [
    "find_lcm()"
   ]
  },
  {
   "cell_type": "markdown",
   "id": "5fce9bea",
   "metadata": {},
   "source": [
    "Given two numbers calculate their GCD"
   ]
  },
  {
   "cell_type": "code",
   "execution_count": 9,
   "id": "01d05ab4",
   "metadata": {},
   "outputs": [],
   "source": [
    "def find_gcd():\n",
    "    num1=int(input(\"Please enter the first number : \"))\n",
    "    num2=int(input(\"Please enter the second number : \"))\n",
    "    a=num1\n",
    "    b=num2\n",
    "    if a<b:\n",
    "        a,b=b,a\n",
    "    while b:\n",
    "        a,b=b,a%b\n",
    "    print(\"The gcd of numbers\",num1,\"and\",num2,\"is\",a)"
   ]
  },
  {
   "cell_type": "code",
   "execution_count": 10,
   "id": "3b07e09a",
   "metadata": {},
   "outputs": [
    {
     "name": "stdout",
     "output_type": "stream",
     "text": [
      "Please enter the first number : 48\n",
      "Please enter the second number : 18\n",
      "The gcd of numbers 48 and 18 is 6\n"
     ]
    }
   ],
   "source": [
    "find_gcd()"
   ]
  }
 ],
 "metadata": {
  "kernelspec": {
   "display_name": "Python 3 (ipykernel)",
   "language": "python",
   "name": "python3"
  },
  "language_info": {
   "codemirror_mode": {
    "name": "ipython",
    "version": 3
   },
   "file_extension": ".py",
   "mimetype": "text/x-python",
   "name": "python",
   "nbconvert_exporter": "python",
   "pygments_lexer": "ipython3",
   "version": "3.11.5"
  }
 },
 "nbformat": 4,
 "nbformat_minor": 5
}
